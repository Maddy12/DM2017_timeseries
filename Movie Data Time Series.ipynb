{
 "cells": [
  {
   "cell_type": "code",
   "execution_count": 2,
   "metadata": {
    "collapsed": true
   },
   "outputs": [],
   "source": [
    "import pandas as pd\n",
    "%matplotlib inline"
   ]
  },
  {
   "cell_type": "code",
   "execution_count": 3,
   "metadata": {
    "collapsed": true
   },
   "outputs": [],
   "source": [
    "data = pd.read_csv(\"moviedata.csv\")"
   ]
  },
  {
   "cell_type": "code",
   "execution_count": 5,
   "metadata": {
    "collapsed": false
   },
   "outputs": [
    {
     "data": {
      "text/html": [
       "<div>\n",
       "<table border=\"1\" class=\"dataframe\">\n",
       "  <thead>\n",
       "    <tr style=\"text-align: right;\">\n",
       "      <th></th>\n",
       "      <th>Month</th>\n",
       "      <th>Total Gross</th>\n",
       "      <th>% Of Year</th>\n",
       "      <th>Avg.</th>\n",
       "      <th>Top Movie of the Month</th>\n",
       "      <th>Gross</th>\n",
       "      <th>% Of Total</th>\n",
       "    </tr>\n",
       "  </thead>\n",
       "  <tbody>\n",
       "    <tr>\n",
       "      <th>0</th>\n",
       "      <td>1/1/2000</td>\n",
       "      <td>591410000</td>\n",
       "      <td>8%</td>\n",
       "      <td>$3,969,195</td>\n",
       "      <td>Stuart Little</td>\n",
       "      <td>$51,424,419</td>\n",
       "      <td>9%</td>\n",
       "    </tr>\n",
       "    <tr>\n",
       "      <th>1</th>\n",
       "      <td>2/1/2000</td>\n",
       "      <td>511350000</td>\n",
       "      <td>7%</td>\n",
       "      <td>$3,277,885</td>\n",
       "      <td>Scream 3</td>\n",
       "      <td>$79,050,098</td>\n",
       "      <td>15%</td>\n",
       "    </tr>\n",
       "    <tr>\n",
       "      <th>2</th>\n",
       "      <td>3/1/2000</td>\n",
       "      <td>511830000</td>\n",
       "      <td>7%</td>\n",
       "      <td>$2,812,253</td>\n",
       "      <td>Erin Brockovich</td>\n",
       "      <td>$66,216,976</td>\n",
       "      <td>13%</td>\n",
       "    </tr>\n",
       "    <tr>\n",
       "      <th>3</th>\n",
       "      <td>4/1/2000</td>\n",
       "      <td>524030000</td>\n",
       "      <td>7%</td>\n",
       "      <td>$2,994,457</td>\n",
       "      <td>Rules of Engagement</td>\n",
       "      <td>$50,228,672</td>\n",
       "      <td>10%</td>\n",
       "    </tr>\n",
       "    <tr>\n",
       "      <th>4</th>\n",
       "      <td>5/1/2000</td>\n",
       "      <td>637500000</td>\n",
       "      <td>8%</td>\n",
       "      <td>$3,863,636</td>\n",
       "      <td>Gladiator (2000)</td>\n",
       "      <td>$129,437,265</td>\n",
       "      <td>20%</td>\n",
       "    </tr>\n",
       "  </tbody>\n",
       "</table>\n",
       "</div>"
      ],
      "text/plain": [
       "     Month   Total Gross  % Of Year         Avg.  Top Movie of the Month   \\\n",
       "0  1/1/2000     591410000         8%  $3,969,195            Stuart Little   \n",
       "1  2/1/2000     511350000         7%  $3,277,885                 Scream 3   \n",
       "2  3/1/2000     511830000         7%  $2,812,253          Erin Brockovich   \n",
       "3  4/1/2000     524030000         7%  $2,994,457      Rules of Engagement   \n",
       "4  5/1/2000     637500000         8%  $3,863,636         Gladiator (2000)   \n",
       "\n",
       "          Gross  % Of Total  \n",
       "0   $51,424,419          9%  \n",
       "1   $79,050,098         15%  \n",
       "2   $66,216,976         13%  \n",
       "3   $50,228,672         10%  \n",
       "4  $129,437,265         20%  "
      ]
     },
     "execution_count": 5,
     "metadata": {},
     "output_type": "execute_result"
    }
   ],
   "source": [
    "data.head()"
   ]
  },
  {
   "cell_type": "code",
   "execution_count": 6,
   "metadata": {
    "collapsed": false
   },
   "outputs": [
    {
     "data": {
      "text/html": [
       "<div>\n",
       "<table border=\"1\" class=\"dataframe\">\n",
       "  <thead>\n",
       "    <tr style=\"text-align: right;\">\n",
       "      <th></th>\n",
       "      <th>Total Gross</th>\n",
       "    </tr>\n",
       "  </thead>\n",
       "  <tbody>\n",
       "    <tr>\n",
       "      <th>count</th>\n",
       "      <td>2.070000e+02</td>\n",
       "    </tr>\n",
       "    <tr>\n",
       "      <th>mean</th>\n",
       "      <td>8.171416e+08</td>\n",
       "    </tr>\n",
       "    <tr>\n",
       "      <th>std</th>\n",
       "      <td>2.110230e+08</td>\n",
       "    </tr>\n",
       "    <tr>\n",
       "      <th>min</th>\n",
       "      <td>4.017100e+08</td>\n",
       "    </tr>\n",
       "    <tr>\n",
       "      <th>25%</th>\n",
       "      <td>6.390550e+08</td>\n",
       "    </tr>\n",
       "    <tr>\n",
       "      <th>50%</th>\n",
       "      <td>8.067400e+08</td>\n",
       "    </tr>\n",
       "    <tr>\n",
       "      <th>75%</th>\n",
       "      <td>9.529880e+08</td>\n",
       "    </tr>\n",
       "    <tr>\n",
       "      <th>max</th>\n",
       "      <td>1.398360e+09</td>\n",
       "    </tr>\n",
       "  </tbody>\n",
       "</table>\n",
       "</div>"
      ],
      "text/plain": [
       "       Total Gross \n",
       "count  2.070000e+02\n",
       "mean   8.171416e+08\n",
       "std    2.110230e+08\n",
       "min    4.017100e+08\n",
       "25%    6.390550e+08\n",
       "50%    8.067400e+08\n",
       "75%    9.529880e+08\n",
       "max    1.398360e+09"
      ]
     },
     "execution_count": 6,
     "metadata": {},
     "output_type": "execute_result"
    }
   ],
   "source": [
    "data.describe()"
   ]
  },
  {
   "cell_type": "code",
   "execution_count": null,
   "metadata": {
    "collapsed": true
   },
   "outputs": [],
   "source": []
  }
 ],
 "metadata": {
  "anaconda-cloud": {},
  "kernelspec": {
   "display_name": "Python [Root]",
   "language": "python",
   "name": "Python [Root]"
  },
  "language_info": {
   "codemirror_mode": {
    "name": "ipython",
    "version": 2
   },
   "file_extension": ".py",
   "mimetype": "text/x-python",
   "name": "python",
   "nbconvert_exporter": "python",
   "pygments_lexer": "ipython2",
   "version": "2.7.12"
  }
 },
 "nbformat": 4,
 "nbformat_minor": 0
}
