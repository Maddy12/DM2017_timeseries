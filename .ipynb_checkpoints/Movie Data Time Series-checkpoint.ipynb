{
 "cells": [
  {
   "cell_type": "code",
   "execution_count": 2,
   "metadata": {
    "collapsed": true
   },
   "outputs": [],
   "source": [
    "import pandas as pd\n",
    "%matplotlib inline"
   ]
  },
  {
   "cell_type": "code",
   "execution_count": 3,
   "metadata": {
    "collapsed": true
   },
   "outputs": [],
   "source": [
    "data = pd.read_csv(\"moviedata.csv\")"
   ]
  },
  {
   "cell_type": "code",
   "execution_count": 5,
   "metadata": {
    "collapsed": false
   },
   "outputs": [
    {
     "data": {
      "text/html": [
       "<div>\n",
       "<table border=\"1\" class=\"dataframe\">\n",
       "  <thead>\n",
       "    <tr style=\"text-align: right;\">\n",
       "      <th></th>\n",
       "      <th>Month</th>\n",
       "      <th>Total Gross</th>\n",
       "      <th>% Of Year</th>\n",
       "      <th>Avg.</th>\n",
       "      <th>Top Movie of the Month</th>\n",
       "      <th>Gross</th>\n",
       "      <th>% Of Total</th>\n",
       "    </tr>\n",
       "  </thead>\n",
       "  <tbody>\n",
       "    <tr>\n",
       "      <th>0</th>\n",
       "      <td>1/1/2000</td>\n",
       "      <td>591410000</td>\n",
       "      <td>8%</td>\n",
       "      <td>$3,969,195</td>\n",
       "      <td>Stuart Little</td>\n",
       "      <td>$51,424,419</td>\n",
       "      <td>9%</td>\n",
       "    </tr>\n",
       "    <tr>\n",
       "      <th>1</th>\n",
       "      <td>2/1/2000</td>\n",
       "      <td>511350000</td>\n",
       "      <td>7%</td>\n",
       "      <td>$3,277,885</td>\n",
       "      <td>Scream 3</td>\n",
       "      <td>$79,050,098</td>\n",
       "      <td>15%</td>\n",
       "    </tr>\n",
       "    <tr>\n",
       "      <th>2</th>\n",
       "      <td>3/1/2000</td>\n",
       "      <td>511830000</td>\n",
       "      <td>7%</td>\n",
       "      <td>$2,812,253</td>\n",
       "      <td>Erin Brockovich</td>\n",
       "      <td>$66,216,976</td>\n",
       "      <td>13%</td>\n",
       "    </tr>\n",
       "    <tr>\n",
       "      <th>3</th>\n",
       "      <td>4/1/2000</td>\n",
       "      <td>524030000</td>\n",
       "      <td>7%</td>\n",
       "      <td>$2,994,457</td>\n",
       "      <td>Rules of Engagement</td>\n",
       "      <td>$50,228,672</td>\n",
       "      <td>10%</td>\n",
       "    </tr>\n",
       "    <tr>\n",
       "      <th>4</th>\n",
       "      <td>5/1/2000</td>\n",
       "      <td>637500000</td>\n",
       "      <td>8%</td>\n",
       "      <td>$3,863,636</td>\n",
       "      <td>Gladiator (2000)</td>\n",
       "      <td>$129,437,265</td>\n",
       "      <td>20%</td>\n",
       "    </tr>\n",
       "  </tbody>\n",
       "</table>\n",
       "</div>"
      ],
      "text/plain": [
       "     Month   Total Gross  % Of Year         Avg.  Top Movie of the Month   \\\n",
       "0  1/1/2000     591410000         8%  $3,969,195            Stuart Little   \n",
       "1  2/1/2000     511350000         7%  $3,277,885                 Scream 3   \n",
       "2  3/1/2000     511830000         7%  $2,812,253          Erin Brockovich   \n",
       "3  4/1/2000     524030000         7%  $2,994,457      Rules of Engagement   \n",
       "4  5/1/2000     637500000         8%  $3,863,636         Gladiator (2000)   \n",
       "\n",
       "          Gross  % Of Total  \n",
       "0   $51,424,419          9%  \n",
       "1   $79,050,098         15%  \n",
       "2   $66,216,976         13%  \n",
       "3   $50,228,672         10%  \n",
       "4  $129,437,265         20%  "
      ]
     },
     "execution_count": 5,
     "metadata": {},
     "output_type": "execute_result"
    }
   ],
   "source": [
    "data.head()"
   ]
  },
  {
   "cell_type": "code",
   "execution_count": 6,
   "metadata": {
    "collapsed": false
   },
   "outputs": [
    {
     "data": {
      "text/html": [
       "<div>\n",
       "<table border=\"1\" class=\"dataframe\">\n",
       "  <thead>\n",
       "    <tr style=\"text-align: right;\">\n",
       "      <th></th>\n",
       "      <th>Total Gross</th>\n",
       "    </tr>\n",
       "  </thead>\n",
       "  <tbody>\n",
       "    <tr>\n",
       "      <th>count</th>\n",
       "      <td>2.070000e+02</td>\n",
       "    </tr>\n",
       "    <tr>\n",
       "      <th>mean</th>\n",
       "      <td>8.171416e+08</td>\n",
       "    </tr>\n",
       "    <tr>\n",
       "      <th>std</th>\n",
       "      <td>2.110230e+08</td>\n",
       "    </tr>\n",
       "    <tr>\n",
       "      <th>min</th>\n",
       "      <td>4.017100e+08</td>\n",
       "    </tr>\n",
       "    <tr>\n",
       "      <th>25%</th>\n",
       "      <td>6.390550e+08</td>\n",
       "    </tr>\n",
       "    <tr>\n",
       "      <th>50%</th>\n",
       "      <td>8.067400e+08</td>\n",
       "    </tr>\n",
       "    <tr>\n",
       "      <th>75%</th>\n",
       "      <td>9.529880e+08</td>\n",
       "    </tr>\n",
       "    <tr>\n",
       "      <th>max</th>\n",
       "      <td>1.398360e+09</td>\n",
       "    </tr>\n",
       "  </tbody>\n",
       "</table>\n",
       "</div>"
      ],
      "text/plain": [
       "       Total Gross \n",
       "count  2.070000e+02\n",
       "mean   8.171416e+08\n",
       "std    2.110230e+08\n",
       "min    4.017100e+08\n",
       "25%    6.390550e+08\n",
       "50%    8.067400e+08\n",
       "75%    9.529880e+08\n",
       "max    1.398360e+09"
      ]
     },
     "execution_count": 6,
     "metadata": {},
     "output_type": "execute_result"
    }
   ],
   "source": [
    "data.describe()"
   ]
  },
  {
   "cell_type": "code",
   "execution_count": 11,
   "metadata": {
    "collapsed": false
   },
   "outputs": [
    {
     "data": {
      "text/plain": [
       "Index([u'Month ', u'Total Gross ', u'% Of Year ', u'Avg. ',\n",
       "       u'Top Movie of the Month ', u'Gross ', u'% Of Total'],\n",
       "      dtype='object')"
      ]
     },
     "execution_count": 11,
     "metadata": {},
     "output_type": "execute_result"
    }
   ],
   "source": [
    "data.columns"
   ]
  },
  {
   "cell_type": "code",
   "execution_count": 13,
   "metadata": {
    "collapsed": false
   },
   "outputs": [],
   "source": [
    "data.columns = ['Month', 'Total_Gross', 'Pct_Of_Year', 'Avg',\n",
    "       'Top_Movie_of_the_Month ', 'Gross', 'Pct_Of_Total']"
   ]
  },
  {
   "cell_type": "code",
   "execution_count": 14,
   "metadata": {
    "collapsed": false
   },
   "outputs": [
    {
     "data": {
      "text/plain": [
       "Index([u'Month', u'Total_Gross', u'Pct_Of_Year', u'Avg',\n",
       "       u'Top_Movie_of_the_Month ', u'Gross', u'Pct_Of_Total'],\n",
       "      dtype='object')"
      ]
     },
     "execution_count": 14,
     "metadata": {},
     "output_type": "execute_result"
    }
   ],
   "source": [
    "data.columns"
   ]
  },
  {
   "cell_type": "code",
   "execution_count": 16,
   "metadata": {
    "collapsed": false
   },
   "outputs": [],
   "source": [
    "data.Month = pd.to_datetime(data.Month)"
   ]
  },
  {
   "cell_type": "code",
   "execution_count": 17,
   "metadata": {
    "collapsed": false
   },
   "outputs": [
    {
     "data": {
      "text/html": [
       "<div>\n",
       "<table border=\"1\" class=\"dataframe\">\n",
       "  <thead>\n",
       "    <tr style=\"text-align: right;\">\n",
       "      <th></th>\n",
       "      <th>Month</th>\n",
       "      <th>Total_Gross</th>\n",
       "      <th>Pct_Of_Year</th>\n",
       "      <th>Avg</th>\n",
       "      <th>Top_Movie_of_the_Month</th>\n",
       "      <th>Gross</th>\n",
       "      <th>Pct_Of_Total</th>\n",
       "    </tr>\n",
       "  </thead>\n",
       "  <tbody>\n",
       "    <tr>\n",
       "      <th>count</th>\n",
       "      <td>207</td>\n",
       "      <td>2.070000e+02</td>\n",
       "      <td>207</td>\n",
       "      <td>207</td>\n",
       "      <td>207</td>\n",
       "      <td>207</td>\n",
       "      <td>207</td>\n",
       "    </tr>\n",
       "    <tr>\n",
       "      <th>unique</th>\n",
       "      <td>207</td>\n",
       "      <td>NaN</td>\n",
       "      <td>13</td>\n",
       "      <td>207</td>\n",
       "      <td>194</td>\n",
       "      <td>207</td>\n",
       "      <td>36</td>\n",
       "    </tr>\n",
       "    <tr>\n",
       "      <th>top</th>\n",
       "      <td>2009-09-01 00:00:00</td>\n",
       "      <td>NaN</td>\n",
       "      <td>10%</td>\n",
       "      <td>$4,952,500</td>\n",
       "      <td>Avatar</td>\n",
       "      <td>$313,957,310</td>\n",
       "      <td>13%</td>\n",
       "    </tr>\n",
       "    <tr>\n",
       "      <th>freq</th>\n",
       "      <td>1</td>\n",
       "      <td>NaN</td>\n",
       "      <td>41</td>\n",
       "      <td>1</td>\n",
       "      <td>3</td>\n",
       "      <td>1</td>\n",
       "      <td>18</td>\n",
       "    </tr>\n",
       "    <tr>\n",
       "      <th>first</th>\n",
       "      <td>2000-01-01 00:00:00</td>\n",
       "      <td>NaN</td>\n",
       "      <td>NaN</td>\n",
       "      <td>NaN</td>\n",
       "      <td>NaN</td>\n",
       "      <td>NaN</td>\n",
       "      <td>NaN</td>\n",
       "    </tr>\n",
       "    <tr>\n",
       "      <th>last</th>\n",
       "      <td>2017-03-01 00:00:00</td>\n",
       "      <td>NaN</td>\n",
       "      <td>NaN</td>\n",
       "      <td>NaN</td>\n",
       "      <td>NaN</td>\n",
       "      <td>NaN</td>\n",
       "      <td>NaN</td>\n",
       "    </tr>\n",
       "    <tr>\n",
       "      <th>mean</th>\n",
       "      <td>NaN</td>\n",
       "      <td>8.171416e+08</td>\n",
       "      <td>NaN</td>\n",
       "      <td>NaN</td>\n",
       "      <td>NaN</td>\n",
       "      <td>NaN</td>\n",
       "      <td>NaN</td>\n",
       "    </tr>\n",
       "    <tr>\n",
       "      <th>std</th>\n",
       "      <td>NaN</td>\n",
       "      <td>2.110230e+08</td>\n",
       "      <td>NaN</td>\n",
       "      <td>NaN</td>\n",
       "      <td>NaN</td>\n",
       "      <td>NaN</td>\n",
       "      <td>NaN</td>\n",
       "    </tr>\n",
       "    <tr>\n",
       "      <th>min</th>\n",
       "      <td>NaN</td>\n",
       "      <td>4.017100e+08</td>\n",
       "      <td>NaN</td>\n",
       "      <td>NaN</td>\n",
       "      <td>NaN</td>\n",
       "      <td>NaN</td>\n",
       "      <td>NaN</td>\n",
       "    </tr>\n",
       "    <tr>\n",
       "      <th>25%</th>\n",
       "      <td>NaN</td>\n",
       "      <td>6.390550e+08</td>\n",
       "      <td>NaN</td>\n",
       "      <td>NaN</td>\n",
       "      <td>NaN</td>\n",
       "      <td>NaN</td>\n",
       "      <td>NaN</td>\n",
       "    </tr>\n",
       "    <tr>\n",
       "      <th>50%</th>\n",
       "      <td>NaN</td>\n",
       "      <td>8.067400e+08</td>\n",
       "      <td>NaN</td>\n",
       "      <td>NaN</td>\n",
       "      <td>NaN</td>\n",
       "      <td>NaN</td>\n",
       "      <td>NaN</td>\n",
       "    </tr>\n",
       "    <tr>\n",
       "      <th>75%</th>\n",
       "      <td>NaN</td>\n",
       "      <td>9.529880e+08</td>\n",
       "      <td>NaN</td>\n",
       "      <td>NaN</td>\n",
       "      <td>NaN</td>\n",
       "      <td>NaN</td>\n",
       "      <td>NaN</td>\n",
       "    </tr>\n",
       "    <tr>\n",
       "      <th>max</th>\n",
       "      <td>NaN</td>\n",
       "      <td>1.398360e+09</td>\n",
       "      <td>NaN</td>\n",
       "      <td>NaN</td>\n",
       "      <td>NaN</td>\n",
       "      <td>NaN</td>\n",
       "      <td>NaN</td>\n",
       "    </tr>\n",
       "  </tbody>\n",
       "</table>\n",
       "</div>"
      ],
      "text/plain": [
       "                      Month   Total_Gross Pct_Of_Year          Avg  \\\n",
       "count                   207  2.070000e+02         207          207   \n",
       "unique                  207           NaN          13          207   \n",
       "top     2009-09-01 00:00:00           NaN         10%  $4,952,500    \n",
       "freq                      1           NaN          41            1   \n",
       "first   2000-01-01 00:00:00           NaN         NaN          NaN   \n",
       "last    2017-03-01 00:00:00           NaN         NaN          NaN   \n",
       "mean                    NaN  8.171416e+08         NaN          NaN   \n",
       "std                     NaN  2.110230e+08         NaN          NaN   \n",
       "min                     NaN  4.017100e+08         NaN          NaN   \n",
       "25%                     NaN  6.390550e+08         NaN          NaN   \n",
       "50%                     NaN  8.067400e+08         NaN          NaN   \n",
       "75%                     NaN  9.529880e+08         NaN          NaN   \n",
       "max                     NaN  1.398360e+09         NaN          NaN   \n",
       "\n",
       "       Top_Movie_of_the_Month           Gross Pct_Of_Total  \n",
       "count                      207            207          207  \n",
       "unique                     194            207           36  \n",
       "top                     Avatar  $313,957,310           13%  \n",
       "freq                         3              1           18  \n",
       "first                      NaN            NaN          NaN  \n",
       "last                       NaN            NaN          NaN  \n",
       "mean                       NaN            NaN          NaN  \n",
       "std                        NaN            NaN          NaN  \n",
       "min                        NaN            NaN          NaN  \n",
       "25%                        NaN            NaN          NaN  \n",
       "50%                        NaN            NaN          NaN  \n",
       "75%                        NaN            NaN          NaN  \n",
       "max                        NaN            NaN          NaN  "
      ]
     },
     "execution_count": 17,
     "metadata": {},
     "output_type": "execute_result"
    }
   ],
   "source": [
    "data.describe(include=\"all\")"
   ]
  },
  {
   "cell_type": "code",
   "execution_count": 18,
   "metadata": {
    "collapsed": false
   },
   "outputs": [
    {
     "data": {
      "text/html": [
       "<div>\n",
       "<table border=\"1\" class=\"dataframe\">\n",
       "  <thead>\n",
       "    <tr style=\"text-align: right;\">\n",
       "      <th></th>\n",
       "      <th>Month</th>\n",
       "      <th>Total_Gross</th>\n",
       "      <th>Pct_Of_Year</th>\n",
       "      <th>Avg</th>\n",
       "      <th>Top_Movie_of_the_Month</th>\n",
       "      <th>Gross</th>\n",
       "      <th>Pct_Of_Total</th>\n",
       "    </tr>\n",
       "  </thead>\n",
       "  <tbody>\n",
       "    <tr>\n",
       "      <th>0</th>\n",
       "      <td>2000-01-01</td>\n",
       "      <td>591410000</td>\n",
       "      <td>8%</td>\n",
       "      <td>$3,969,195</td>\n",
       "      <td>Stuart Little</td>\n",
       "      <td>$51,424,419</td>\n",
       "      <td>9%</td>\n",
       "    </tr>\n",
       "    <tr>\n",
       "      <th>1</th>\n",
       "      <td>2000-02-01</td>\n",
       "      <td>511350000</td>\n",
       "      <td>7%</td>\n",
       "      <td>$3,277,885</td>\n",
       "      <td>Scream 3</td>\n",
       "      <td>$79,050,098</td>\n",
       "      <td>15%</td>\n",
       "    </tr>\n",
       "    <tr>\n",
       "      <th>2</th>\n",
       "      <td>2000-03-01</td>\n",
       "      <td>511830000</td>\n",
       "      <td>7%</td>\n",
       "      <td>$2,812,253</td>\n",
       "      <td>Erin Brockovich</td>\n",
       "      <td>$66,216,976</td>\n",
       "      <td>13%</td>\n",
       "    </tr>\n",
       "    <tr>\n",
       "      <th>3</th>\n",
       "      <td>2000-04-01</td>\n",
       "      <td>524030000</td>\n",
       "      <td>7%</td>\n",
       "      <td>$2,994,457</td>\n",
       "      <td>Rules of Engagement</td>\n",
       "      <td>$50,228,672</td>\n",
       "      <td>10%</td>\n",
       "    </tr>\n",
       "    <tr>\n",
       "      <th>4</th>\n",
       "      <td>2000-05-01</td>\n",
       "      <td>637500000</td>\n",
       "      <td>8%</td>\n",
       "      <td>$3,863,636</td>\n",
       "      <td>Gladiator (2000)</td>\n",
       "      <td>$129,437,265</td>\n",
       "      <td>20%</td>\n",
       "    </tr>\n",
       "  </tbody>\n",
       "</table>\n",
       "</div>"
      ],
      "text/plain": [
       "       Month  Total_Gross Pct_Of_Year          Avg Top_Movie_of_the_Month   \\\n",
       "0 2000-01-01    591410000          8%  $3,969,195            Stuart Little   \n",
       "1 2000-02-01    511350000          7%  $3,277,885                 Scream 3   \n",
       "2 2000-03-01    511830000          7%  $2,812,253          Erin Brockovich   \n",
       "3 2000-04-01    524030000          7%  $2,994,457      Rules of Engagement   \n",
       "4 2000-05-01    637500000          8%  $3,863,636         Gladiator (2000)   \n",
       "\n",
       "           Gross Pct_Of_Total  \n",
       "0   $51,424,419            9%  \n",
       "1   $79,050,098           15%  \n",
       "2   $66,216,976           13%  \n",
       "3   $50,228,672           10%  \n",
       "4  $129,437,265           20%  "
      ]
     },
     "execution_count": 18,
     "metadata": {},
     "output_type": "execute_result"
    }
   ],
   "source": [
    "data.head()"
   ]
  },
  {
   "cell_type": "code",
   "execution_count": 19,
   "metadata": {
    "collapsed": false
   },
   "outputs": [
    {
     "data": {
      "text/plain": [
       "<matplotlib.axes._subplots.AxesSubplot at 0x98b3cc0>"
      ]
     },
     "execution_count": 19,
     "metadata": {},
     "output_type": "execute_result"
    },
    {
     "data": {
      "image/png": "[encoded data removed]",
      "text/plain": [
       "<matplotlib.figure.Figure at 0x988db70>"
      ]
     },
     "metadata": {},
     "output_type": "display_data"
    }
   ],
   "source": [
    "data.Total_Gross.plot()"
   ]
  },
  {
   "cell_type": "code",
   "execution_count": 20,
   "metadata": {
    "collapsed": false
   },
   "outputs": [
    {
     "data": {
      "text/plain": [
       "<matplotlib.axes._subplots.AxesSubplot at 0x90f4390>"
      ]
     },
     "execution_count": 20,
     "metadata": {},
     "output_type": "execute_result"
    },
    {
     "data": {
      "image/png": "[encoded data removed]",
      "text/plain": [
       "<matplotlib.figure.Figure at 0x988de80>"
      ]
     },
     "metadata": {},
     "output_type": "display_data"
    }
   ],
   "source": [
    "data.plot(x=data.Month, style=\".-\")"
   ]
  },
  {
   "cell_type": "code",
   "execution_count": 21,
   "metadata": {
    "collapsed": false
   },
   "outputs": [
    {
     "data": {
      "text/html": [
       "<div>\n",
       "<table border=\"1\" class=\"dataframe\">\n",
       "  <thead>\n",
       "    <tr style=\"text-align: right;\">\n",
       "      <th></th>\n",
       "      <th>Total_Gross</th>\n",
       "      <th>Pct_Of_Year</th>\n",
       "      <th>Avg</th>\n",
       "      <th>Top_Movie_of_the_Month</th>\n",
       "      <th>Gross</th>\n",
       "      <th>Pct_Of_Total</th>\n",
       "    </tr>\n",
       "    <tr>\n",
       "      <th>Month</th>\n",
       "      <th></th>\n",
       "      <th></th>\n",
       "      <th></th>\n",
       "      <th></th>\n",
       "      <th></th>\n",
       "      <th></th>\n",
       "    </tr>\n",
       "  </thead>\n",
       "  <tbody>\n",
       "    <tr>\n",
       "      <th>2000-01-01</th>\n",
       "      <td>591410000</td>\n",
       "      <td>8%</td>\n",
       "      <td>$3,969,195</td>\n",
       "      <td>Stuart Little</td>\n",
       "      <td>$51,424,419</td>\n",
       "      <td>9%</td>\n",
       "    </tr>\n",
       "    <tr>\n",
       "      <th>2000-02-01</th>\n",
       "      <td>511350000</td>\n",
       "      <td>7%</td>\n",
       "      <td>$3,277,885</td>\n",
       "      <td>Scream 3</td>\n",
       "      <td>$79,050,098</td>\n",
       "      <td>15%</td>\n",
       "    </tr>\n",
       "    <tr>\n",
       "      <th>2000-03-01</th>\n",
       "      <td>511830000</td>\n",
       "      <td>7%</td>\n",
       "      <td>$2,812,253</td>\n",
       "      <td>Erin Brockovich</td>\n",
       "      <td>$66,216,976</td>\n",
       "      <td>13%</td>\n",
       "    </tr>\n",
       "    <tr>\n",
       "      <th>2000-04-01</th>\n",
       "      <td>524030000</td>\n",
       "      <td>7%</td>\n",
       "      <td>$2,994,457</td>\n",
       "      <td>Rules of Engagement</td>\n",
       "      <td>$50,228,672</td>\n",
       "      <td>10%</td>\n",
       "    </tr>\n",
       "    <tr>\n",
       "      <th>2000-05-01</th>\n",
       "      <td>637500000</td>\n",
       "      <td>8%</td>\n",
       "      <td>$3,863,636</td>\n",
       "      <td>Gladiator (2000)</td>\n",
       "      <td>$129,437,265</td>\n",
       "      <td>20%</td>\n",
       "    </tr>\n",
       "  </tbody>\n",
       "</table>\n",
       "</div>"
      ],
      "text/plain": [
       "            Total_Gross Pct_Of_Year          Avg Top_Movie_of_the_Month   \\\n",
       "Month                                                                      \n",
       "2000-01-01    591410000          8%  $3,969,195            Stuart Little   \n",
       "2000-02-01    511350000          7%  $3,277,885                 Scream 3   \n",
       "2000-03-01    511830000          7%  $2,812,253          Erin Brockovich   \n",
       "2000-04-01    524030000          7%  $2,994,457      Rules of Engagement   \n",
       "2000-05-01    637500000          8%  $3,863,636         Gladiator (2000)   \n",
       "\n",
       "                    Gross Pct_Of_Total  \n",
       "Month                                   \n",
       "2000-01-01   $51,424,419            9%  \n",
       "2000-02-01   $79,050,098           15%  \n",
       "2000-03-01   $66,216,976           13%  \n",
       "2000-04-01   $50,228,672           10%  \n",
       "2000-05-01  $129,437,265           20%  "
      ]
     },
     "execution_count": 21,
     "metadata": {},
     "output_type": "execute_result"
    }
   ],
   "source": [
    "data.index = data.Month\n",
    "\n",
    "data.drop([\"Month\"], axis=1, inplace=True)\n",
    "data.head()"
   ]
  },
  {
   "cell_type": "code",
   "execution_count": 22,
   "metadata": {
    "collapsed": false
   },
   "outputs": [
    {
     "data": {
      "text/plain": [
       "<matplotlib.axes._subplots.AxesSubplot at 0x9a93ba8>"
      ]
     },
     "execution_count": 22,
     "metadata": {},
     "output_type": "execute_result"
    },
    {
     "data": {
      "image/png": "[encoded data removed]",
      "text/plain": [
       "<matplotlib.figure.Figure at 0x9d1c2b0>"
      ]
     },
     "metadata": {},
     "output_type": "display_data"
    }
   ],
   "source": [
    "data.Total_Gross.plot()"
   ]
  },
  {
   "cell_type": "code",
   "execution_count": null,
   "metadata": {
    "collapsed": true
   },
   "outputs": [],
   "source": []
  }
 ],
 "metadata": {
  "anaconda-cloud": {},
  "kernelspec": {
   "display_name": "Python [Root]",
   "language": "python",
   "name": "Python [Root]"
  },
  "language_info": {
   "codemirror_mode": {
    "name": "ipython",
    "version": 2
   },
   "file_extension": ".py",
   "mimetype": "text/x-python",
   "name": "python",
   "nbconvert_exporter": "python",
   "pygments_lexer": "ipython2",
   "version": "2.7.12"
  }
 },
 "nbformat": 4,
 "nbformat_minor": 0
}
